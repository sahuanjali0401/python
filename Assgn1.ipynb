{
 "cells": [
  {
   "cell_type": "code",
   "execution_count": 7,
   "metadata": {},
   "outputs": [
    {
     "name": "stdout",
     "output_type": "stream",
     "text": [
      "Enter comma separated numbersAnjali, Anjali, Anjali\n",
      "['Anjali', ' Anjali', ' Anjali']\n"
     ]
    }
   ],
   "source": [
    "str1=input(\"Enter comma separated numbers\")\n",
    "li=list(str1.split(\",\"))\n",
    "print(li)"
   ]
  },
  {
   "cell_type": "code",
   "execution_count": 28,
   "metadata": {},
   "outputs": [
    {
     "name": "stdout",
     "output_type": "stream",
     "text": [
      "\n",
      "\n",
      "*\n",
      "\n",
      "**\n",
      "\n",
      "***\n",
      "\n",
      "****\n",
      "\n",
      "*****\n",
      "\n",
      "****\n",
      "\n",
      "***\n",
      "\n",
      "**\n",
      "\n",
      "*\n",
      "\n"
     ]
    }
   ],
   "source": [
    "for x in range(1,7):\n",
    "    for y in range(1,x):\n",
    "        print(\"*\",end='')\n",
    "    print(\"\\n\")\n",
    "for x in range(5,1,-1):\n",
    "    for y in range(1,x):\n",
    "        print(\"*\",end='')\n",
    "    print(\"\\n\")\n",
    "\n"
   ]
  },
  {
   "cell_type": "code",
   "execution_count": 17,
   "metadata": {},
   "outputs": [
    {
     "name": "stdout",
     "output_type": "stream",
     "text": [
      "Enter a wordAnjali\n",
      "ilajnA\n"
     ]
    }
   ],
   "source": [
    "x=input(\"Enter a word\")\n",
    "rev=x[::-1]\n",
    "print(rev)"
   ]
  },
  {
   "cell_type": "code",
   "execution_count": 18,
   "metadata": {},
   "outputs": [
    {
     "name": "stdout",
     "output_type": "stream",
     "text": [
      "904.3199999999999\n"
     ]
    }
   ],
   "source": [
    "pi=3.14\n",
    "d=12\n",
    "r=d/2\n",
    "v=4/3*pi*(r**3)\n",
    "print(v)"
   ]
  },
  {
   "cell_type": "code",
   "execution_count": 19,
   "metadata": {},
   "outputs": [
    {
     "name": "stdout",
     "output_type": "stream",
     "text": [
      "Enter your first name:Anjali\n",
      "Enter your last name:Sahu\n",
      "ilajnA uhaS\n"
     ]
    }
   ],
   "source": [
    "fname=input(\"Enter your first name:\")\n",
    "lname=input(\"Enter your last name:\")\n",
    "revfname=fname[::-1]\n",
    "revlname=lname[::-1]\n",
    "x=\"{} {}\"\n",
    "print(x.format(revfname,revlname))"
   ]
  },
  {
   "cell_type": "code",
   "execution_count": 44,
   "metadata": {},
   "outputs": [
    {
     "name": "stdout",
     "output_type": "stream",
     "text": [
      "2002,2009,2016,2023,2037,2044,2051,2058,2072,2079,2086,2093,2107,2114,2121,2128,2142,2149,2156,2163,2177,2184,2191,2198,2212,2219,2226,2233,2247,2254,2261,2268,2282,2289,2296,2303,2317,2324,2331,2338,2352,2359,2366,2373,2387,2394,2401,2408,2422,2429,2436,2443,2457,2464,2471,2478,2492,2499,2506,2513,2527,2534,2541,2548,2562,2569,2576,2583,2597,2604,2611,2618,2632,2639,2646,2653,2667,2674,2681,2688,2702,2709,2716,2723,2737,2744,2751,2758,2772,2779,2786,2793,2807,2814,2821,2828,2842,2849,2856,2863,2877,2884,2891,2898,2912,2919,2926,2933,2947,2954,2961,2968,2982,2989,2996,3003,3017,3024,3031,3038,3052,3059,3066,3073,3087,3094,3101,3108,3122,3129,3136,3143,3157,3164,3171,3178,3192,3199\n"
     ]
    }
   ],
   "source": [
    "li=[]\n",
    "i=2000\n",
    "while i>=2000 and i<=3200:\n",
    "    if i%7==0 and i%5!=0:\n",
    "       # print (\",\".join(i))\n",
    "        li.append(i)\n",
    "    i+=1\n",
    "print(*li,sep=',')"
   ]
  },
  {
   "cell_type": "code",
   "execution_count": 26,
   "metadata": {},
   "outputs": [
    {
     "name": "stdout",
     "output_type": "stream",
     "text": [
      "\n",
      "    WE,THE PEOPLE OF INDIA,\n",
      "        having slemnly resolved to constitute India into a SOVEREIGN,!\n",
      "             SOCIALIST,SECULAR,DEMOCRATIC REPUBLIC\n",
      "              and to secure to all its citizens\n",
      "\n"
     ]
    }
   ],
   "source": [
    "a=\"\"\"\n",
    "    WE,THE PEOPLE OF INDIA,\n",
    "        having slemnly resolved to constitute India into a SOVEREIGN,!\n",
    "             SOCIALIST,SECULAR,DEMOCRATIC REPUBLIC\n",
    "              and to secure to all its citizens\n",
    "\"\"\"\n",
    "print(a)"
   ]
  },
  {
   "cell_type": "code",
   "execution_count": null,
   "metadata": {},
   "outputs": [],
   "source": []
  }
 ],
 "metadata": {
  "kernelspec": {
   "display_name": "Python 3",
   "language": "python",
   "name": "python3"
  },
  "language_info": {
   "codemirror_mode": {
    "name": "ipython",
    "version": 3
   },
   "file_extension": ".py",
   "mimetype": "text/x-python",
   "name": "python",
   "nbconvert_exporter": "python",
   "pygments_lexer": "ipython3",
   "version": "3.7.4"
  }
 },
 "nbformat": 4,
 "nbformat_minor": 2
}
